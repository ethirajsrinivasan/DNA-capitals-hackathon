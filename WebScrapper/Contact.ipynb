{
 "cells": [
  {
   "cell_type": "code",
   "execution_count": null,
   "metadata": {},
   "outputs": [],
   "source": [
    "import urllib.request\n",
    "from bs4 import BeautifulSoup\n",
    "import pandas as pd\n",
    "from googlesearch import search"
   ]
  },
  {
   "cell_type": "code",
   "execution_count": null,
   "metadata": {},
   "outputs": [],
   "source": [
    "companies = pd.read_csv(\"training_data.csv\", header = None)\n",
    "companies = companies[0].tolist()"
   ]
  },
  {
   "cell_type": "code",
   "execution_count": null,
   "metadata": {},
   "outputs": [],
   "source": [
    "def get_soup(url):\n",
    "    request = urllib.request.Request(url)\n",
    "    response = urllib.request.urlopen(request)\n",
    "    soup = BeautifulSoup(response, \"html.parser\")\n",
    "    return(soup)"
   ]
  },
  {
   "cell_type": "code",
   "execution_count": null,
   "metadata": {},
   "outputs": [],
   "source": [
    "def get_first_url(query):\n",
    "    for url in search(query, tld=\"com.sg\", num=1, stop=1, pause=3):\n",
    "        return url"
   ]
  },
  {
   "cell_type": "code",
   "execution_count": null,
   "metadata": {},
   "outputs": [],
   "source": [
    "def get_address(companies):\n",
    "    company_details = {}\n",
    "    for company in companies:\n",
    "        company_details[company] = {}\n",
    "        query = company + \" pitchbook\"\n",
    "        url=get_first_url(query)\n",
    "        if url[:38] == \"https://pitchbook.com/profiles/company\":\n",
    "            soup = get_soup(url)\n",
    "            address=[]\n",
    "            try:\n",
    "                for line in soup.findAll(\"li\", attrs={\"class\": \"info-item__value\"}):\n",
    "                    add = line.text.strip()\n",
    "                    address.append(add)\n",
    "                    addr=\", \".join([str(x) for x in address])\n",
    "                print(company, address)\n",
    "                company_details[company][\"Address\"]= addr\n",
    "            except:\n",
    "                company_details[company][\"Address\"]= \"NA\"\n",
    "                company_details[company][\"Phone\"]= \"NA\"\n",
    "                continue\n",
    "        else:\n",
    "            query = company+\" bloomberg snapshot\"\n",
    "            url=get_first_url(query)\n",
    "            if url[:58] == \"https://www.bloomberg.com/research/stocks/private/snapshot\":\n",
    "                soup = get_soup(url)\n",
    "                address = []\n",
    "                try:\n",
    "                    add_line = soup.find(\"div\", attrs={\"class\": \"detailsDataContainerLt\"})\n",
    "                    addr=add_line.find(\"div\", attrs={\"itemprop\": \"address\"})\n",
    "                    for p in addr.findAll(\"p\"):\n",
    "                        add=p.text.strip()\n",
    "                        address.append(add)\n",
    "                    print(company, address)\n",
    "                    addr=\", \".join([str(x) for x in address])\n",
    "                    print(company, addr)\n",
    "                    phone = []\n",
    "                    ph_head = soup.find(\"div\", attrs={\"class\": \"detailsDataContainerRt\"})\n",
    "                    ph = ph_head.find(\"p\", attrs={\"itemprop\": \"telephone\"})\n",
    "                    phone = ph.text.strip()\n",
    "                    print(phone)\n",
    "                    company_details[company][\"Address\"]= addr\n",
    "                    company_details[company][\"Phone\"]=phone\n",
    "                except:\n",
    "                    company_details[company][\"Address\"]= \"NA\"\n",
    "                    company_details[company][\"Phone\"]= \"NA\"\n",
    "                continue\n",
    "            \n",
    "            else:\n",
    "                print(company, \"NA\") \n",
    "                company_details[company][\"Address\"]= \"NA\"\n",
    "    return company_details"
   ]
  },
  {
   "cell_type": "code",
   "execution_count": null,
   "metadata": {},
   "outputs": [],
   "source": [
    "get_address(companies)"
   ]
  }
 ],
 "metadata": {
  "kernelspec": {
   "display_name": "Python 2",
   "language": "python",
   "name": "python2"
  },
  "language_info": {
   "codemirror_mode": {
    "name": "ipython",
    "version": 2
   },
   "file_extension": ".py",
   "mimetype": "text/x-python",
   "name": "python",
   "nbconvert_exporter": "python",
   "pygments_lexer": "ipython2",
   "version": "2.7.14"
  }
 },
 "nbformat": 4,
 "nbformat_minor": 2
}
