{
 "cells": [
  {
   "cell_type": "code",
   "execution_count": null,
   "metadata": {},
   "outputs": [],
   "source": [
    "import urllib\n",
    "import requests\n",
    "from bs4 import BeautifulSoup"
   ]
  },
  {
   "cell_type": "code",
   "execution_count": null,
   "metadata": {},
   "outputs": [],
   "source": [
    "companies = pd.read_csv(\"training_data.csv\", header = None)\n",
    "companies = companies[0].tolist()"
   ]
  },
  {
   "cell_type": "code",
   "execution_count": null,
   "metadata": {},
   "outputs": [],
   "source": [
    "def get_news_article(companies):\n",
    "    company_details = {}\n",
    "    for company in companies:\n",
    "        try:\n",
    "        #print(company)\n",
    "            company_details[company] = {}\n",
    "            url = \"http://www.google.com.sg/search?q=\"+company+\"&tbm=nws&tbs=qdr:y\"\n",
    "            htmlpage = requests.get(url)\n",
    "            soup = BeautifulSoup(htmlpage.text,'html.parser')\n",
    "            result_table = soup.find(\"div\", {\"class\": \"g\"})\n",
    "            a_click = result_table.find(\"a\")\n",
    "            head=a_click.renderContents().decode('UTF-8').replace(\"<b>\",\"\").replace(\"</b>\",\"\")\n",
    "            link=str(a_click.get(\"href\"))[7:]\n",
    "            brief = result_table.find(\"div\", {\"class\": \"st\"}).renderContents().decode('UTF-8').replace(\"<b>\",\"\").replace(\"</b>\",\"\")\n",
    "            company_details[company][\"Title\"]=head\n",
    "            company_details[company][\"Brief\"]=brief\n",
    "            company_details[company][\"Link\"]=link\n",
    "            print(company,\"\\n\",head,\"\\n\",brief)\n",
    "        except:\n",
    "            company_details[company][\"Title\"]=\"NA\"\n",
    "            company_details[company][\"Brief\"]=\"NA\"\n",
    "            company_details[company][\"Link\"]=\"NA\"\n",
    "            continue\n",
    "    return company_details"
   ]
  },
  {
   "cell_type": "code",
   "execution_count": null,
   "metadata": {},
   "outputs": [],
   "source": [
    "get_news_article(companies)"
   ]
  }
 ],
 "metadata": {
  "kernelspec": {
   "display_name": "Python 2",
   "language": "python",
   "name": "python2"
  },
  "language_info": {
   "codemirror_mode": {
    "name": "ipython",
    "version": 2
   },
   "file_extension": ".py",
   "mimetype": "text/x-python",
   "name": "python",
   "nbconvert_exporter": "python",
   "pygments_lexer": "ipython2",
   "version": "2.7.14"
  }
 },
 "nbformat": 4,
 "nbformat_minor": 2
}
